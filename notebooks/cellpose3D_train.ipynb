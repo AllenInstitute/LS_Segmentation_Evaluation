{
 "cells": [
  {
   "cell_type": "markdown",
   "id": "40e841f1-2180-4e61-ace1-dde0e09d7d88",
   "metadata": {},
   "source": [
    "## Initialize Modules and Pathways"
   ]
  },
  {
   "cell_type": "code",
   "execution_count": null,
   "id": "40057a0d-eec1-4fe1-938a-c2418c360374",
   "metadata": {},
   "outputs": [
    {
     "name": "stdout",
     "output_type": "stream",
     "text": [
      "[12:38:52] Processing image 1/1 in \"test_data/images/annotated/block_4\"\n",
      "[12:38:53] Processing mask 1/1 in test_data/cellpose_output/flow\n"
     ]
    }
   ],
   "source": [
    "\n",
    "''' Need very specifc pytorch setup to work on Ubuntu system:\n",
    "    pip install torch==1.12.1+cu116 torchvision==0.13.1+cu116 torchaudio -f https://download.pytorch.org/whl/torch_stable.html\n",
    "'''\n",
    "\n",
    "# add location of Cellpose3D to system paths\n",
    "import os\n",
    "import sys\n",
    "import time\n",
    "sys.path.append('/home/elyse/Documents/py_scripts/')\n",
    "sys.path.append('/home/elyse/Documents/py_scripts/Cellpose3D')\n",
    "    \n",
    "from Cellpose3D.utils import h5_converter, csv_generator\n",
    "from glob import glob\n",
    "    \n",
    "# setup paths\n",
    "# need to have created masks \n",
    "data_root = '/home/elyse/Documents/GitHub/LS_evaluation_tool/'\n",
    "folders = ['test_data/images/annotated/block_4', 'test_data/cellpose_output/flow']\n",
    "files = ['block_4_signal.tif', 'block_4_signal_cp_masks.tif']\n",
    "output_path = os.path.join(data_root, folders[0], 'cellpose3D_output')\n",
    "    \n",
    "#check if output path exists and create if necessary\n",
    "if not os.path.exists(output_path):\n",
    "    os.mkdir(output_path)\n",
    "\n",
    "# time preprocessing\n",
    "start_processing = time.time()\n",
    "\n",
    "# format tif stacks as h5\n",
    "h5_converter.prepare_images(data_path = data_root, folders = [folders[0]], identifier = files[0])\n",
    "h5_converter.prepare_masks(data_path = data_root, folders = [folders[1]], identifier = files[1])\n",
    "    \n",
    "# get new .h5s and create file lists\\n\",\n",
    "img_h5 = glob(os.path.join(data_root, folders[0], '*.h5'))[0]\n",
    "mask_h5 = glob(os.path.join(data_root, folders[1], '*.h5'))[0]\n",
    "csv_generator.create_csv(data_list = [(img_h5, mask_h5)], save_path = output_path)\n",
    "\n",
    "preprocess_time = time.time() - start_processing\n",
    "print('Network input files created: {0} seconds.'.format(preprocess_time))"
   ]
  },
  {
   "cell_type": "code",
   "execution_count": null,
   "id": "05dc30a7-b6fa-4c9f-bc88-500409478993",
   "metadata": {
    "scrolled": true,
    "tags": []
   },
   "outputs": [],
   "source": [
    "# run cellpose3D network\"\n",
    "start_model = time.time()\n",
    "test_path = '/home/elyse/Documents/py_scripts/Cellpose3D/epoch=999.ckpt'\n",
    "\n",
    "!python /home/elyse/Documents/py_scripts/Cellpose3D/apply_network.py --output_path {output_path} --ckpt_path {test_path}\n",
    "\n",
    "model_time = time.time() - start_model\n",
    "print('Model Completed: {0} seconds '.format(preprocess_time + model_time))"
   ]
  },
  {
   "cell_type": "code",
   "execution_count": null,
   "id": "d735afba-44fb-4ba7-8be8-4187f1fef0c8",
   "metadata": {},
   "outputs": [],
   "source": []
  }
 ],
 "metadata": {
  "kernelspec": {
   "display_name": "Python 3",
   "language": "python",
   "name": "python3"
  },
  "language_info": {
   "codemirror_mode": {
    "name": "ipython",
    "version": 3
   },
   "file_extension": ".py",
   "mimetype": "text/x-python",
   "name": "python",
   "nbconvert_exporter": "python",
   "pygments_lexer": "ipython3",
   "version": "3.8.13"
  }
 },
 "nbformat": 4,
 "nbformat_minor": 5
}
