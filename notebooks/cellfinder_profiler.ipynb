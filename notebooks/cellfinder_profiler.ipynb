{
 "cells": [
  {
   "cell_type": "code",
   "execution_count": 2,
   "id": "2adf5e08-dcf5-4c07-9e2e-54871c903b1c",
   "metadata": {},
   "outputs": [],
   "source": [
    "# Initialize modules and directories\n",
    "import os\n",
    "import re\n",
    "import time\n",
    "import tifffile\n",
    "import warnings\n",
    "\n",
    "from pathlib import Path\n",
    "from datetime import datetime\n",
    "from bs4 import BeautifulSoup\n",
    "from collections import defaultdict\n",
    "from cellfinder_core.detect import detect\n",
    "from cellfinder_core.classify import classify\n",
    "from cellfinder_core.tools.prep import prep_classification\n",
    "\n",
    "# Paths to annotated test data\n",
    "base_dir = '/home/elyse/Documents/GitHub/LS_evaluation_tool/test_data/images/'\n",
    "output_path = '/home/elyse/Documents/GitHub/LS_evaluation_tool/test_data/cellfinder_output'\n",
    "\n",
    "# Create output folder if first run \n",
    "if not os.path.exists(output_path):\n",
    "    os.mkdir(output_path)\n"
   ]
  },
  {
   "cell_type": "code",
   "execution_count": 3,
   "id": "ed676dc3-9867-47c4-bd36-924a50f9c5a6",
   "metadata": {},
   "outputs": [],
   "source": [
    "#Initialize parameters and model weights\n",
    "\n",
    "# Detection Parameters:\n",
    "start_plane = 0\n",
    "end_plane = -1\n",
    "voxel_sizes = [2, 1.8, 1.8]\n",
    "n_free_cpus=2\n",
    "soma_diameter = 9\n",
    "ball_xy_size = 6\n",
    "ball_z_size = 8\n",
    "ball_overlap_fraction = 0.6\n",
    "log_sigma_size = 0.1\n",
    "n_sds_above_mean_thresh = 3\n",
    "soma_spread_factor=1.4\n",
    "max_cluster_size=100000\n",
    "\n",
    "# Classification Parameters:\n",
    "home = Path.home()\n",
    "install_path = home / \".cellfinder\" #default\n",
    "\n",
    "trained_model = None\n",
    "model_weights = None\n",
    "model = \"resnet50_tv\"\n",
    "network_depth = \"50\"\n",
    "batch_size=32\n",
    "cube_width=50\n",
    "cube_height=50\n",
    "cube_depth=20\n",
    "\n",
    "# Initialize model weights\n",
    "model_weights = prep_classification(trained_model, model_weights, install_path, model, n_free_cpus)"
   ]
  },
  {
   "cell_type": "code",
   "execution_count": 4,
   "id": "7e3958c3-a50b-42bc-81f2-e764c489f501",
   "metadata": {},
   "outputs": [
    {
     "name": "stdout",
     "output_type": "stream",
     "text": [
      "Pulled annotation data for block 4.\n",
      "Pulled annotation data for block 1.\n",
      "Pulled annotation data for block 3.\n",
      "Pulled annotation data for block 2.\n"
     ]
    }
   ],
   "source": [
    "# Get annotated data and image file paths\n",
    "\n",
    "# function to turn .xml files into x, y, z coordinates\n",
    "def get_locations(path):\n",
    "    # read xml file\n",
    "    with open(path, 'r') as f:\n",
    "        data = f.read()\n",
    "    # get xml data in iterable format\n",
    "    markers = BeautifulSoup(data, features='xml').find_all('Marker')\n",
    "    cell_loci = []\n",
    "    # iterate and output marker locations\n",
    "    for marker in markers:\n",
    "        coords = re.findall('[0-9]+', marker.text)\n",
    "        coords = [int(x) for x in coords]\n",
    "        cell_loci.append(coords)\n",
    "    \n",
    "    return cell_loci\n",
    "        \n",
    "blocks = defaultdict(dict)\n",
    "\n",
    "# loop through base directory and collect all data from \"block_#\" subfolders\n",
    "for root, dirs, files in os.walk(base_dir):\n",
    "    if 'block' in root: \n",
    "        for file in files:\n",
    "            try:\n",
    "                block_num = re.findall('[0-9]', file)[0]\n",
    "            except:\n",
    "                continue  \n",
    "            if 'signal' in file:\n",
    "                blocks[block_num]['signal'] = os.path.join(root, file)\n",
    "            elif 'background' in file:\n",
    "                blocks[block_num]['background'] = os.path.join(root, file)\n",
    "            elif 'detect' in file:\n",
    "                blocks[block_num]['detect'] = get_locations(os.path.join(root, file))\n",
    "            else:\n",
    "                blocks[block_num]['reject'] = get_locations(os.path.join(root, file))\n",
    "\n",
    "# print info on blocks        \n",
    "for key in blocks.keys():\n",
    "    print('Pulled annotation data for block {0}.'.format(str(key)))"
   ]
  },
  {
   "cell_type": "code",
   "execution_count": 5,
   "id": "d4637f81-b6c7-4019-93e0-4ce372837750",
   "metadata": {
    "scrolled": true,
    "tags": []
   },
   "outputs": [
    {
     "name": "stderr",
     "output_type": "stream",
     "text": [
      "Processing planes:   9%|▊         | 13/150 [00:00<00:01, 129.84it/s]"
     ]
    },
    {
     "name": "stdout",
     "output_type": "stream",
     "text": [
      "Plane 0 received for 3D filtering\n",
      "Plane 1 received for 3D filtering\n",
      "Plane 2 received for 3D filtering\n",
      "Plane 3 received for 3D filtering\n",
      "Plane 4 received for 3D filtering\n",
      "Plane 5 received for 3D filtering\n",
      "Plane 6 received for 3D filtering\n",
      "Plane 7 received for 3D filtering\n",
      "Plane 8 received for 3D filtering\n",
      "Plane 9 received for 3D filtering\n",
      "Plane 10 received for 3D filtering\n",
      "Plane 11 received for 3D filtering\n",
      "Plane 12 received for 3D filtering\n",
      "Plane 13 received for 3D filtering\n",
      "Plane 14 received for 3D filtering\n",
      "Plane 15 received for 3D filtering\n",
      "Plane 16 received for 3D filtering\n",
      "Plane 17 received for 3D filtering\n",
      "Plane 18 received for 3D filtering\n",
      "Plane 19 received for 3D filtering\n",
      "Plane 20 received for 3D filtering\n",
      "Plane 21 received for 3D filtering\n",
      "Plane 22 received for 3D filtering\n"
     ]
    },
    {
     "name": "stderr",
     "output_type": "stream",
     "text": [
      "Processing planes:  25%|██▌       | 38/150 [00:00<00:01, 101.76it/s]"
     ]
    },
    {
     "name": "stdout",
     "output_type": "stream",
     "text": [
      "Plane 23 received for 3D filtering\n",
      "Plane 24 received for 3D filtering\n",
      "Plane 25 received for 3D filtering\n",
      "Plane 26 received for 3D filtering\n",
      "Plane 27 received for 3D filtering\n",
      "Plane 28 received for 3D filtering\n",
      "Plane 29 received for 3D filtering\n",
      "Plane 30 received for 3D filtering\n",
      "Plane 31 received for 3D filtering\n",
      "Plane 32 received for 3D filtering\n",
      "Plane 33 received for 3D filtering\n",
      "Plane 34 received for 3D filtering\n",
      "Plane 35 received for 3D filtering\n",
      "Plane 36 received for 3D filtering\n",
      "Plane 37 received for 3D filtering\n",
      "Plane 38 received for 3D filtering\n",
      "Plane 39 received for 3D filtering\n",
      "Plane 40 received for 3D filtering\n",
      "Plane 41 received for 3D filtering\n",
      "Plane 42 received for 3D filtering\n",
      "Plane 43 received for 3D filtering\n",
      "Plane 44 received for 3D filtering\n",
      "Plane 45 received for 3D filtering\n",
      "Plane 46 received for 3D filtering\n",
      "Plane 47 received for 3D filtering\n",
      "Plane 48 received for 3D filtering\n",
      "Plane 49 received for 3D filtering\n"
     ]
    },
    {
     "name": "stderr",
     "output_type": "stream",
     "text": [
      "Processing planes:  37%|███▋      | 55/150 [00:00<00:00, 119.48it/s]"
     ]
    },
    {
     "name": "stdout",
     "output_type": "stream",
     "text": [
      "Plane 50 received for 3D filtering\n",
      "Plane 51 received for 3D filtering\n",
      "Plane 52 received for 3D filtering\n",
      "Plane 53 received for 3D filtering\n",
      "Plane 54 received for 3D filtering\n",
      "Plane 55 received for 3D filtering\n",
      "Plane 56 received for 3D filtering\n",
      "Plane 57 received for 3D filtering\n",
      "Plane 58 received for 3D filtering\n",
      "Plane 59 received for 3D filtering\n",
      "Plane 60 received for 3D filtering\n",
      "Plane 61 received for 3D filtering\n",
      "Plane 62 received for 3D filtering\n",
      "Plane 63 received for 3D filtering\n"
     ]
    },
    {
     "name": "stderr",
     "output_type": "stream",
     "text": [
      "Processing planes:  45%|████▌     | 68/150 [00:00<00:00, 92.31it/s] "
     ]
    },
    {
     "name": "stdout",
     "output_type": "stream",
     "text": [
      "Plane 64 received for 3D filtering\n",
      "Plane 65 received for 3D filtering\n",
      "Plane 66 received for 3D filtering\n",
      "Plane 67 received for 3D filtering\n",
      "Plane 68 received for 3D filtering\n",
      "Plane 69 received for 3D filtering\n",
      "Plane 70 received for 3D filtering\n",
      "Plane 71 received for 3D filtering\n",
      "Plane 72 received for 3D filtering\n",
      "Plane 73 received for 3D filtering\n",
      "Plane 74 received for 3D filtering\n",
      "Plane 75 received for 3D filtering\n",
      "Plane 76 received for 3D filtering\n"
     ]
    },
    {
     "name": "stderr",
     "output_type": "stream",
     "text": [
      "Processing planes:  59%|█████▊    | 88/150 [00:00<00:00, 76.18it/s]"
     ]
    },
    {
     "name": "stdout",
     "output_type": "stream",
     "text": [
      "Plane 77 received for 3D filtering\n",
      "Plane 78 received for 3D filtering\n",
      "Plane 79 received for 3D filtering\n",
      "Plane 80 received for 3D filtering\n",
      "Plane 81 received for 3D filtering\n",
      "Plane 82 received for 3D filtering\n",
      "Plane 83 received for 3D filtering\n",
      "Plane 84 received for 3D filtering\n",
      "Plane 85 received for 3D filtering\n",
      "Plane 86 received for 3D filtering\n",
      "Plane 87 received for 3D filtering\n",
      "Plane 88 received for 3D filtering\n",
      "Plane 89 received for 3D filtering\n"
     ]
    },
    {
     "name": "stderr",
     "output_type": "stream",
     "text": [
      "Processing planes:  65%|██████▍   | 97/150 [00:01<00:00, 71.79it/s]"
     ]
    },
    {
     "name": "stdout",
     "output_type": "stream",
     "text": [
      "Plane 90 received for 3D filtering\n",
      "Plane 91 received for 3D filtering\n",
      "Plane 92 received for 3D filtering\n",
      "Plane 93 received for 3D filtering\n",
      "Plane 94 received for 3D filtering\n",
      "Plane 95 received for 3D filtering\n",
      "Plane 96 received for 3D filtering\n",
      "Plane 97 received for 3D filtering\n",
      "Plane 98 received for 3D filtering\n",
      "Plane 99 received for 3D filtering\n",
      "Plane 100 received for 3D filtering\n",
      "Plane 101 received for 3D filtering\n",
      "Plane 102 received for 3D filtering\n",
      "Plane 103 received for 3D filtering\n",
      "Plane 104 received for 3D filtering\n",
      "Plane 105 received for 3D filtering\n",
      "Plane 106 received for 3D filtering\n",
      "Plane 107 received for 3D filtering\n",
      "Plane 108 received for 3D filtering\n"
     ]
    },
    {
     "name": "stderr",
     "output_type": "stream",
     "text": [
      "Processing planes: 100%|██████████| 150/150 [00:01<00:00, 106.62it/s]"
     ]
    },
    {
     "name": "stdout",
     "output_type": "stream",
     "text": [
      "Plane 109 received for 3D filtering\n",
      "Plane 110 received for 3D filtering\n",
      "Plane 111 received for 3D filtering\n",
      "Plane 112 received for 3D filtering\n",
      "Plane 113 received for 3D filtering\n",
      "Plane 114 received for 3D filtering\n",
      "Plane 115 received for 3D filtering\n",
      "Plane 116 received for 3D filtering\n",
      "Plane 117 received for 3D filtering\n",
      "Plane 118 received for 3D filtering\n",
      "Plane 119 received for 3D filtering\n",
      "Plane 120 received for 3D filtering\n",
      "Plane 121 received for 3D filtering\n",
      "Plane 122 received for 3D filtering\n",
      "Plane 123 received for 3D filtering\n",
      "Plane 124 received for 3D filtering\n",
      "Plane 125 received for 3D filtering\n",
      "Plane 126 received for 3D filtering\n",
      "Plane 127 received for 3D filtering\n",
      "Plane 128 received for 3D filtering\n",
      "Plane 129 received for 3D filtering\n",
      "Plane 130 received for 3D filtering\n",
      "Plane 131 received for 3D filtering\n",
      "Plane 132 received for 3D filtering\n",
      "Plane 133 received for 3D filtering\n",
      "Plane 134 received for 3D filtering\n",
      "Plane 135 received for 3D filtering\n",
      "Plane 136 received for 3D filtering\n",
      "Plane 137 received for 3D filtering\n",
      "Plane 138 received for 3D filtering\n",
      "Plane 139 received for 3D filtering\n",
      "Plane 140 received for 3D filtering\n",
      "Plane 141 received for 3D filtering\n",
      "Plane 142 received for 3D filtering\n",
      "Plane 143 received for 3D filtering\n",
      "Plane 144 received for 3D filtering\n",
      "Plane 145 received for 3D filtering\n",
      "Plane 146 received for 3D filtering\n",
      "Plane 147 received for 3D filtering\n",
      "Plane 148 received for 3D filtering\n",
      "Plane 149 received for 3D filtering\n"
     ]
    },
    {
     "name": "stderr",
     "output_type": "stream",
     "text": [
      "\n"
     ]
    },
    {
     "name": "stdout",
     "output_type": "stream",
     "text": [
      "Detection complete - all planes done in : 0:00:02.014631\n"
     ]
    },
    {
     "name": "stderr",
     "output_type": "stream",
     "text": [
      "Processing planes:  11%|█         | 28/260 [00:00<00:00, 254.85it/s]"
     ]
    },
    {
     "name": "stdout",
     "output_type": "stream",
     "text": [
      "Plane 0 received for 3D filtering\n",
      "Plane 1 received for 3D filtering\n",
      "Plane 2 received for 3D filtering\n",
      "Plane 3 received for 3D filtering\n",
      "Plane 4 received for 3D filtering\n",
      "Plane 5 received for 3D filtering\n",
      "Plane 6 received for 3D filtering\n",
      "Plane 7 received for 3D filtering\n",
      "Plane 8 received for 3D filtering\n",
      "Plane 9 received for 3D filtering\n",
      "Plane 10 received for 3D filtering\n",
      "Plane 11 received for 3D filtering\n",
      "Plane 12 received for 3D filtering\n",
      "Plane 13 received for 3D filtering\n",
      "Plane 14 received for 3D filtering\n",
      "Plane 15 received for 3D filtering\n",
      "Plane 16 received for 3D filtering\n",
      "Plane 17 received for 3D filtering\n",
      "Plane 18 received for 3D filtering\n",
      "Plane 19 received for 3D filtering\n",
      "Plane 20 received for 3D filtering\n",
      "Plane 21 received for 3D filtering\n",
      "Plane 22 received for 3D filtering\n",
      "Plane 23 received for 3D filtering\n",
      "Plane 24 received for 3D filtering\n",
      "Plane 25 received for 3D filtering\n",
      "Plane 26 received for 3D filtering\n",
      "Plane 27 received for 3D filtering\n",
      "Plane 28 received for 3D filtering\n",
      "Plane 29 received for 3D filtering\n",
      "Plane 30 received for 3D filtering\n",
      "Plane 31 received for 3D filtering\n",
      "Plane 32 received for 3D filtering\n",
      "Plane 33 received for 3D filtering\n",
      "Plane 34 received for 3D filtering\n",
      "Plane 35 received for 3D filtering\n",
      "Plane 36 received for 3D filtering\n",
      "Plane 37 received for 3D filtering\n",
      "Plane 38 received for 3D filtering\n",
      "Plane 39 received for 3D filtering\n",
      "Plane 40 received for 3D filtering\n",
      "Plane 41 received for 3D filtering\n",
      "Plane 42 received for 3D filtering\n",
      "Plane 43 received for 3D filtering\n",
      "Plane 44 received for 3D filtering\n"
     ]
    },
    {
     "name": "stderr",
     "output_type": "stream",
     "text": [
      "Processing planes:  29%|██▉       | 75/260 [00:00<00:01, 178.34it/s]"
     ]
    },
    {
     "name": "stdout",
     "output_type": "stream",
     "text": [
      "Plane 45 received for 3D filtering\n",
      "Plane 46 received for 3D filtering\n",
      "Plane 47 received for 3D filtering\n",
      "Plane 48 received for 3D filtering\n",
      "Plane 49 received for 3D filtering\n",
      "Plane 50 received for 3D filtering\n",
      "Plane 51 received for 3D filtering\n",
      "Plane 52 received for 3D filtering\n",
      "Plane 53 received for 3D filtering\n",
      "Plane 54 received for 3D filtering\n",
      "Plane 55 received for 3D filtering\n",
      "Plane 56 received for 3D filtering\n",
      "Plane 57 received for 3D filtering\n",
      "Plane 58 received for 3D filtering\n",
      "Plane 59 received for 3D filtering\n",
      "Plane 60 received for 3D filtering\n",
      "Plane 61 received for 3D filtering\n",
      "Plane 62 received for 3D filtering\n",
      "Plane 63 received for 3D filtering\n",
      "Plane 64 received for 3D filtering\n",
      "Plane 65 received for 3D filtering\n",
      "Plane 66 received for 3D filtering\n",
      "Plane 67 received for 3D filtering\n",
      "Plane 68 received for 3D filtering\n",
      "Plane 69 received for 3D filtering\n",
      "Plane 70 received for 3D filtering\n",
      "Plane 71 received for 3D filtering\n",
      "Plane 72 received for 3D filtering\n",
      "Plane 73 received for 3D filtering\n",
      "Plane 74 received for 3D filtering\n",
      "Plane 75 received for 3D filtering\n"
     ]
    },
    {
     "name": "stderr",
     "output_type": "stream",
     "text": [
      "Processing planes:  36%|███▌      | 94/260 [00:00<00:00, 179.43it/s]"
     ]
    },
    {
     "name": "stdout",
     "output_type": "stream",
     "text": [
      "Plane 76 received for 3D filtering\n",
      "Plane 77 received for 3D filtering\n",
      "Plane 78 received for 3D filtering\n",
      "Plane 79 received for 3D filtering\n",
      "Plane 80 received for 3D filtering\n",
      "Plane 81 received for 3D filtering\n",
      "Plane 82 received for 3D filtering\n",
      "Plane 83 received for 3D filtering\n",
      "Plane 84 received for 3D filtering\n",
      "Plane 85 received for 3D filtering\n",
      "Plane 86 received for 3D filtering\n",
      "Plane 87 received for 3D filtering\n",
      "Plane 88 received for 3D filtering\n",
      "Plane 89 received for 3D filtering\n",
      "Plane 90 received for 3D filtering\n",
      "Plane 91 received for 3D filtering\n",
      "Plane 92 received for 3D filtering\n",
      "Plane 93 received for 3D filtering\n",
      "Plane 94 received for 3D filtering\n",
      "Plane 95 received for 3D filtering\n",
      "Plane 96 received for 3D filtering\n",
      "Plane 97 received for 3D filtering\n",
      "Plane 98 received for 3D filtering\n",
      "Plane 99 received for 3D filtering\n",
      "Plane 100 received for 3D filtering\n",
      "Plane 101 received for 3D filtering\n",
      "Plane 102 received for 3D filtering\n",
      "Plane 103 received for 3D filtering\n",
      "Plane 104 received for 3D filtering\n",
      "Plane 105 received for 3D filtering\n",
      "Plane 106 received for 3D filtering\n",
      "Plane 107 received for 3D filtering\n",
      "Plane 108 received for 3D filtering\n",
      "Plane 109 received for 3D filtering\n",
      "Plane 110 received for 3D filtering\n",
      "Plane 111 received for 3D filtering\n"
     ]
    },
    {
     "name": "stderr",
     "output_type": "stream",
     "text": [
      "Processing planes:  50%|█████     | 131/260 [00:00<00:00, 175.49it/s]"
     ]
    },
    {
     "name": "stdout",
     "output_type": "stream",
     "text": [
      "Plane 112 received for 3D filtering\n",
      "Plane 113 received for 3D filtering\n",
      "Plane 114 received for 3D filtering\n",
      "Plane 115 received for 3D filtering\n",
      "Plane 116 received for 3D filtering\n",
      "Plane 117 received for 3D filtering\n",
      "Plane 118 received for 3D filtering\n",
      "Plane 119 received for 3D filtering\n",
      "Plane 120 received for 3D filtering\n",
      "Plane 121 received for 3D filtering\n",
      "Plane 122 received for 3D filtering\n",
      "Plane 123 received for 3D filtering\n",
      "Plane 124 received for 3D filtering\n",
      "Plane 125 received for 3D filtering\n",
      "Plane 126 received for 3D filtering\n",
      "Plane 127 received for 3D filtering\n",
      "Plane 128 received for 3D filtering\n",
      "Plane 129 received for 3D filtering\n",
      "Plane 130 received for 3D filtering\n",
      "Plane 131 received for 3D filtering\n",
      "Plane 132 received for 3D filtering\n",
      "Plane 133 received for 3D filtering\n",
      "Plane 134 received for 3D filtering\n",
      "Plane 135 received for 3D filtering\n",
      "Plane 136 received for 3D filtering\n",
      "Plane 137 received for 3D filtering\n",
      "Plane 138 received for 3D filtering\n",
      "Plane 139 received for 3D filtering\n",
      "Plane 140 received for 3D filtering\n",
      "Plane 141 received for 3D filtering\n",
      "Plane 142 received for 3D filtering\n",
      "Plane 143 received for 3D filtering\n",
      "Plane 144 received for 3D filtering\n",
      "Plane 145 received for 3D filtering\n"
     ]
    },
    {
     "name": "stderr",
     "output_type": "stream",
     "text": [
      "Processing planes:  64%|██████▍   | 167/260 [00:00<00:00, 160.23it/s]"
     ]
    },
    {
     "name": "stdout",
     "output_type": "stream",
     "text": [
      "Plane 146 received for 3D filtering\n",
      "Plane 147 received for 3D filtering\n",
      "Plane 148 received for 3D filtering\n",
      "Plane 149 received for 3D filtering\n",
      "Plane 150 received for 3D filtering\n",
      "Plane 151 received for 3D filtering\n",
      "Plane 152 received for 3D filtering\n",
      "Plane 153 received for 3D filtering\n",
      "Plane 154 received for 3D filtering\n",
      "Plane 155 received for 3D filtering\n",
      "Plane 156 received for 3D filtering\n",
      "Plane 157 received for 3D filtering\n",
      "Plane 158 received for 3D filtering\n",
      "Plane 159 received for 3D filtering\n",
      "Plane 160 received for 3D filtering\n",
      "Plane 161 received for 3D filtering\n",
      "Plane 162 received for 3D filtering\n",
      "Plane 163 received for 3D filtering\n",
      "Plane 164 received for 3D filtering\n",
      "Plane 165 received for 3D filtering\n",
      "Plane 166 received for 3D filtering\n",
      "Plane 167 received for 3D filtering\n",
      "Plane 168 received for 3D filtering\n",
      "Plane 169 received for 3D filtering\n",
      "Plane 170 received for 3D filtering\n",
      "Plane 171 received for 3D filtering\n",
      "Plane 172 received for 3D filtering\n",
      "Plane 173 received for 3D filtering\n",
      "Plane 174 received for 3D filtering\n"
     ]
    },
    {
     "name": "stderr",
     "output_type": "stream",
     "text": [
      "Processing planes:  77%|███████▋  | 200/260 [00:01<00:00, 150.51it/s]"
     ]
    },
    {
     "name": "stdout",
     "output_type": "stream",
     "text": [
      "Plane 175 received for 3D filtering\n",
      "Plane 176 received for 3D filtering\n",
      "Plane 177 received for 3D filtering\n",
      "Plane 178 received for 3D filtering\n",
      "Plane 179 received for 3D filtering\n",
      "Plane 180 received for 3D filtering\n",
      "Plane 181 received for 3D filtering\n",
      "Plane 182 received for 3D filtering\n",
      "Plane 183 received for 3D filtering\n",
      "Plane 184 received for 3D filtering\n",
      "Plane 185 received for 3D filtering\n",
      "Plane 186 received for 3D filtering\n",
      "Plane 187 received for 3D filtering\n",
      "Plane 188 received for 3D filtering\n",
      "Plane 189 received for 3D filtering\n",
      "Plane 190 received for 3D filtering\n",
      "Plane 191 received for 3D filtering\n",
      "Plane 192 received for 3D filtering\n",
      "Plane 193 received for 3D filtering\n",
      "Plane 194 received for 3D filtering\n",
      "Plane 195 received for 3D filtering\n",
      "Plane 196 received for 3D filtering\n",
      "Plane 197 received for 3D filtering\n",
      "Plane 198 received for 3D filtering\n",
      "Plane 199 received for 3D filtering\n",
      "Plane 200 received for 3D filtering\n",
      "Plane 201 received for 3D filtering\n",
      "Plane 202 received for 3D filtering\n",
      "Plane 203 received for 3D filtering\n"
     ]
    },
    {
     "name": "stderr",
     "output_type": "stream",
     "text": [
      "Processing planes: 100%|██████████| 260/260 [00:01<00:00, 189.16it/s]\n"
     ]
    },
    {
     "name": "stdout",
     "output_type": "stream",
     "text": [
      "Plane 204 received for 3D filtering\n",
      "Plane 205 received for 3D filtering\n",
      "Plane 206 received for 3D filtering\n",
      "Plane 207 received for 3D filtering\n",
      "Plane 208 received for 3D filtering\n",
      "Plane 209 received for 3D filtering\n",
      "Plane 210 received for 3D filtering\n",
      "Plane 211 received for 3D filtering\n",
      "Plane 212 received for 3D filtering\n",
      "Plane 213 received for 3D filtering\n",
      "Plane 214 received for 3D filtering\n",
      "Plane 215 received for 3D filtering\n",
      "Plane 216 received for 3D filtering\n",
      "Plane 217 received for 3D filtering\n",
      "Plane 218 received for 3D filtering\n",
      "Plane 219 received for 3D filtering\n",
      "Plane 220 received for 3D filtering\n",
      "Plane 221 received for 3D filtering\n",
      "Plane 222 received for 3D filtering\n",
      "Plane 223 received for 3D filtering\n",
      "Plane 224 received for 3D filtering\n",
      "Plane 225 received for 3D filtering\n",
      "Plane 226 received for 3D filtering\n",
      "Plane 227 received for 3D filtering\n",
      "Plane 228 received for 3D filtering\n",
      "Plane 229 received for 3D filtering\n",
      "Plane 230 received for 3D filtering\n",
      "Plane 231 received for 3D filtering\n",
      "Plane 232 received for 3D filtering\n",
      "Plane 233 received for 3D filtering\n",
      "Plane 234 received for 3D filtering\n",
      "Plane 235 received for 3D filtering\n",
      "Plane 236 received for 3D filtering\n",
      "Plane 237 received for 3D filtering\n",
      "Plane 238 received for 3D filtering\n",
      "Plane 239 received for 3D filtering\n",
      "Plane 240 received for 3D filtering\n",
      "Plane 241 received for 3D filtering\n",
      "Plane 242 received for 3D filtering\n",
      "Plane 243 received for 3D filtering\n",
      "Plane 244 received for 3D filtering\n",
      "Plane 245 received for 3D filtering\n",
      "Plane 246 received for 3D filtering\n",
      "Plane 247 received for 3D filtering\n",
      "Plane 248 received for 3D filtering\n",
      "Plane 249 received for 3D filtering\n",
      "Plane 250 received for 3D filtering\n",
      "Plane 251 received for 3D filtering\n",
      "Plane 252 received for 3D filtering\n",
      "Plane 253 received for 3D filtering\n",
      "Plane 254 received for 3D filtering\n",
      "Plane 255 received for 3D filtering\n",
      "Plane 256 received for 3D filtering\n",
      "Plane 257 received for 3D filtering\n",
      "Plane 258 received for 3D filtering\n",
      "Plane 259 received for 3D filtering\n",
      "Detection complete - all planes done in : 0:00:01.909993\n"
     ]
    },
    {
     "name": "stderr",
     "output_type": "stream",
     "text": [
      "Processing planes:   8%|▊         | 12/150 [00:00<00:01, 109.82it/s]"
     ]
    },
    {
     "name": "stdout",
     "output_type": "stream",
     "text": [
      "Plane 0 received for 3D filtering\n",
      "Plane 1 received for 3D filtering\n",
      "Plane 2 received for 3D filtering\n",
      "Plane 3 received for 3D filtering\n",
      "Plane 4 received for 3D filtering\n",
      "Plane 5 received for 3D filtering\n",
      "Plane 6 received for 3D filtering\n",
      "Plane 7 received for 3D filtering\n",
      "Plane 8 received for 3D filtering\n",
      "Plane 9 received for 3D filtering\n",
      "Plane 10 received for 3D filtering\n",
      "Plane 11 received for 3D filtering\n",
      "Plane 12 received for 3D filtering\n",
      "Plane 13 received for 3D filtering\n",
      "Plane 14 received for 3D filtering\n",
      "Plane 15 received for 3D filtering\n",
      "Plane 16 received for 3D filtering\n",
      "Plane 17 received for 3D filtering\n"
     ]
    },
    {
     "name": "stderr",
     "output_type": "stream",
     "text": [
      "Processing planes:  21%|██▏       | 32/150 [00:00<00:01, 79.67it/s] "
     ]
    },
    {
     "name": "stdout",
     "output_type": "stream",
     "text": [
      "Plane 18 received for 3D filtering\n",
      "Plane 19 received for 3D filtering\n",
      "Plane 20 received for 3D filtering\n",
      "Plane 21 received for 3D filtering\n",
      "Plane 22 received for 3D filtering\n",
      "Plane 23 received for 3D filtering\n",
      "Plane 24 received for 3D filtering\n",
      "Plane 25 received for 3D filtering\n",
      "Plane 26 received for 3D filtering\n",
      "Plane 27 received for 3D filtering\n",
      "Plane 28 received for 3D filtering\n",
      "Plane 29 received for 3D filtering\n",
      "Plane 30 received for 3D filtering\n",
      "Plane 31 received for 3D filtering\n",
      "Plane 32 received for 3D filtering\n",
      "Plane 33 received for 3D filtering\n"
     ]
    },
    {
     "name": "stderr",
     "output_type": "stream",
     "text": [
      "Processing planes:  35%|███▍      | 52/150 [00:00<00:00, 115.26it/s]"
     ]
    },
    {
     "name": "stdout",
     "output_type": "stream",
     "text": [
      "Plane 34 received for 3D filtering\n",
      "Plane 35 received for 3D filtering\n",
      "Plane 36 received for 3D filtering\n",
      "Plane 37 received for 3D filtering\n",
      "Plane 38 received for 3D filtering\n",
      "Plane 39 received for 3D filtering\n",
      "Plane 40 received for 3D filtering\n",
      "Plane 41 received for 3D filtering\n",
      "Plane 42 received for 3D filtering\n",
      "Plane 43 received for 3D filtering\n",
      "Plane 44 received for 3D filtering\n",
      "Plane 45 received for 3D filtering\n",
      "Plane 46 received for 3D filtering\n",
      "Plane 47 received for 3D filtering\n",
      "Plane 48 received for 3D filtering\n",
      "Plane 49 received for 3D filtering\n",
      "Plane 50 received for 3D filtering\n",
      "Plane 51 received for 3D filtering\n",
      "Plane 52 received for 3D filtering\n",
      "Plane 53 received for 3D filtering\n",
      "Plane 54 received for 3D filtering\n",
      "Plane 55 received for 3D filtering\n",
      "Plane 56 received for 3D filtering\n",
      "Plane 57 received for 3D filtering\n",
      "Plane 58 received for 3D filtering\n"
     ]
    },
    {
     "name": "stderr",
     "output_type": "stream",
     "text": [
      "Processing planes:  43%|████▎     | 65/150 [00:00<00:00, 89.89it/s] "
     ]
    },
    {
     "name": "stdout",
     "output_type": "stream",
     "text": [
      "Plane 59 received for 3D filtering\n",
      "Plane 60 received for 3D filtering\n",
      "Plane 61 received for 3D filtering\n",
      "Plane 62 received for 3D filtering\n",
      "Plane 63 received for 3D filtering\n",
      "Plane 64 received for 3D filtering\n",
      "Plane 65 received for 3D filtering\n",
      "Plane 66 received for 3D filtering\n",
      "Plane 67 received for 3D filtering\n",
      "Plane 68 received for 3D filtering\n",
      "Plane 69 received for 3D filtering\n",
      "Plane 70 received for 3D filtering\n",
      "Plane 71 received for 3D filtering\n",
      "Plane 72 received for 3D filtering\n"
     ]
    },
    {
     "name": "stderr",
     "output_type": "stream",
     "text": [
      "Processing planes:  56%|█████▌    | 84/150 [00:01<00:00, 76.34it/s]"
     ]
    },
    {
     "name": "stdout",
     "output_type": "stream",
     "text": [
      "Plane 73 received for 3D filtering\n",
      "Plane 74 received for 3D filtering\n",
      "Plane 75 received for 3D filtering\n",
      "Plane 76 received for 3D filtering\n",
      "Plane 77 received for 3D filtering\n",
      "Plane 78 received for 3D filtering\n",
      "Plane 79 received for 3D filtering\n",
      "Plane 80 received for 3D filtering\n",
      "Plane 81 received for 3D filtering\n",
      "Plane 82 received for 3D filtering\n",
      "Plane 83 received for 3D filtering\n",
      "Plane 84 received for 3D filtering\n",
      "Plane 85 received for 3D filtering\n"
     ]
    },
    {
     "name": "stderr",
     "output_type": "stream",
     "text": [
      "Processing planes:  62%|██████▏   | 93/150 [00:01<00:00, 71.68it/s]"
     ]
    },
    {
     "name": "stdout",
     "output_type": "stream",
     "text": [
      "Plane 86 received for 3D filtering\n",
      "Plane 87 received for 3D filtering\n",
      "Plane 88 received for 3D filtering\n",
      "Plane 89 received for 3D filtering\n",
      "Plane 90 received for 3D filtering\n",
      "Plane 91 received for 3D filtering\n",
      "Plane 92 received for 3D filtering\n",
      "Plane 93 received for 3D filtering\n",
      "Plane 94 received for 3D filtering\n",
      "Plane 95 received for 3D filtering\n",
      "Plane 96 received for 3D filtering\n",
      "Plane 97 received for 3D filtering\n",
      "Plane 98 received for 3D filtering\n"
     ]
    },
    {
     "name": "stderr",
     "output_type": "stream",
     "text": [
      "Processing planes:  79%|███████▉  | 119/150 [00:01<00:00, 94.06it/s]"
     ]
    },
    {
     "name": "stdout",
     "output_type": "stream",
     "text": [
      "Plane 99 received for 3D filtering\n",
      "Plane 100 received for 3D filtering\n",
      "Plane 101 received for 3D filtering\n",
      "Plane 102 received for 3D filtering\n",
      "Plane 103 received for 3D filtering\n",
      "Plane 104 received for 3D filtering\n",
      "Plane 105 received for 3D filtering\n",
      "Plane 106 received for 3D filtering\n",
      "Plane 107 received for 3D filtering\n",
      "Plane 108 received for 3D filtering\n",
      "Plane 109 received for 3D filtering\n",
      "Plane 110 received for 3D filtering\n",
      "Plane 111 received for 3D filtering\n",
      "Plane 112 received for 3D filtering\n",
      "Plane 113 received for 3D filtering\n",
      "Plane 114 received for 3D filtering\n",
      "Plane 115 received for 3D filtering\n",
      "Plane 116 received for 3D filtering\n",
      "Plane 117 received for 3D filtering\n",
      "Plane 118 received for 3D filtering\n",
      "Plane 119 received for 3D filtering\n",
      "Plane 120 received for 3D filtering\n",
      "Plane 121 received for 3D filtering\n",
      "Plane 122 received for 3D filtering\n",
      "Plane 123 received for 3D filtering\n",
      "Plane 124 received for 3D filtering\n",
      "Plane 125 received for 3D filtering\n",
      "Plane 126 received for 3D filtering\n",
      "Plane 127 received for 3D filtering\n",
      "Plane 128 received for 3D filtering\n",
      "Plane 129 received for 3D filtering\n",
      "Plane 130 received for 3D filtering\n",
      "Plane 131 received for 3D filtering\n",
      "Plane 132 received for 3D filtering\n",
      "Plane 133 received for 3D filtering\n"
     ]
    },
    {
     "name": "stderr",
     "output_type": "stream",
     "text": [
      "Processing planes: 100%|██████████| 150/150 [00:01<00:00, 98.48it/s] \n"
     ]
    },
    {
     "name": "stdout",
     "output_type": "stream",
     "text": [
      "Plane 134 received for 3D filtering\n",
      "Plane 135 received for 3D filtering\n",
      "Plane 136 received for 3D filtering\n",
      "Plane 137 received for 3D filtering\n",
      "Plane 138 received for 3D filtering\n",
      "Plane 139 received for 3D filtering\n",
      "Plane 140 received for 3D filtering\n",
      "Plane 141 received for 3D filtering\n",
      "Plane 142 received for 3D filtering\n",
      "Plane 143 received for 3D filtering\n",
      "Plane 144 received for 3D filtering\n",
      "Plane 145 received for 3D filtering\n",
      "Plane 146 received for 3D filtering\n",
      "Plane 147 received for 3D filtering\n",
      "Plane 148 received for 3D filtering\n",
      "Plane 149 received for 3D filtering\n",
      "Detection complete - all planes done in : 0:00:02.226639\n"
     ]
    },
    {
     "name": "stderr",
     "output_type": "stream",
     "text": [
      "Processing planes:   8%|▊         | 21/260 [00:00<00:01, 192.68it/s]"
     ]
    },
    {
     "name": "stdout",
     "output_type": "stream",
     "text": [
      "Plane 0 received for 3D filtering\n",
      "Plane 1 received for 3D filtering\n",
      "Plane 2 received for 3D filtering\n",
      "Plane 3 received for 3D filtering\n",
      "Plane 4 received for 3D filtering\n",
      "Plane 5 received for 3D filtering\n",
      "Plane 6 received for 3D filtering\n",
      "Plane 7 received for 3D filtering\n",
      "Plane 8 received for 3D filtering\n",
      "Plane 9 received for 3D filtering\n",
      "Plane 10 received for 3D filtering\n",
      "Plane 11 received for 3D filtering\n",
      "Plane 12 received for 3D filtering\n",
      "Plane 13 received for 3D filtering\n",
      "Plane 14 received for 3D filtering\n",
      "Plane 15 received for 3D filtering\n",
      "Plane 16 received for 3D filtering\n",
      "Plane 17 received for 3D filtering\n",
      "Plane 18 received for 3D filtering\n",
      "Plane 19 received for 3D filtering\n",
      "Plane 20 received for 3D filtering\n",
      "Plane 21 received for 3D filtering\n",
      "Plane 22 received for 3D filtering\n",
      "Plane 23 received for 3D filtering\n",
      "Plane 24 received for 3D filtering\n",
      "Plane 25 received for 3D filtering\n",
      "Plane 26 received for 3D filtering\n",
      "Plane 27 received for 3D filtering\n",
      "Plane 28 received for 3D filtering\n",
      "Plane 29 received for 3D filtering\n",
      "Plane 30 received for 3D filtering\n",
      "Plane 31 received for 3D filtering\n",
      "Plane 32 received for 3D filtering\n",
      "Plane 33 received for 3D filtering\n",
      "Plane 34 received for 3D filtering\n",
      "Plane 35 received for 3D filtering\n",
      "Plane 36 received for 3D filtering\n",
      "Plane 37 received for 3D filtering\n",
      "Plane 38 received for 3D filtering\n"
     ]
    },
    {
     "name": "stderr",
     "output_type": "stream",
     "text": [
      "Processing planes:  23%|██▎       | 61/260 [00:00<00:01, 169.03it/s]"
     ]
    },
    {
     "name": "stdout",
     "output_type": "stream",
     "text": [
      "Plane 39 received for 3D filtering\n",
      "Plane 40 received for 3D filtering\n",
      "Plane 41 received for 3D filtering\n",
      "Plane 42 received for 3D filtering\n",
      "Plane 43 received for 3D filtering\n",
      "Plane 44 received for 3D filtering\n",
      "Plane 45 received for 3D filtering\n",
      "Plane 46 received for 3D filtering\n",
      "Plane 47 received for 3D filtering\n",
      "Plane 48 received for 3D filtering\n",
      "Plane 49 received for 3D filtering\n",
      "Plane 50 received for 3D filtering\n",
      "Plane 51 received for 3D filtering\n",
      "Plane 52 received for 3D filtering\n",
      "Plane 53 received for 3D filtering\n",
      "Plane 54 received for 3D filtering\n",
      "Plane 55 received for 3D filtering\n",
      "Plane 56 received for 3D filtering\n",
      "Plane 57 received for 3D filtering\n",
      "Plane 58 received for 3D filtering\n",
      "Plane 59 received for 3D filtering\n",
      "Plane 60 received for 3D filtering\n",
      "Plane 61 received for 3D filtering\n",
      "Plane 62 received for 3D filtering\n",
      "Plane 63 received for 3D filtering\n",
      "Plane 64 received for 3D filtering\n",
      "Plane 65 received for 3D filtering\n",
      "Plane 66 received for 3D filtering\n",
      "Plane 67 received for 3D filtering\n",
      "Plane 68 received for 3D filtering\n",
      "Plane 69 received for 3D filtering\n",
      "Plane 70 received for 3D filtering\n",
      "Plane 71 received for 3D filtering\n",
      "Plane 72 received for 3D filtering\n"
     ]
    },
    {
     "name": "stderr",
     "output_type": "stream",
     "text": [
      "Processing planes:  38%|███▊      | 99/260 [00:00<00:00, 177.84it/s]"
     ]
    },
    {
     "name": "stdout",
     "output_type": "stream",
     "text": [
      "Plane 73 received for 3D filtering\n",
      "Plane 74 received for 3D filtering\n",
      "Plane 75 received for 3D filtering\n",
      "Plane 76 received for 3D filtering\n",
      "Plane 77 received for 3D filtering\n",
      "Plane 78 received for 3D filtering\n",
      "Plane 79 received for 3D filtering\n",
      "Plane 80 received for 3D filtering\n",
      "Plane 81 received for 3D filtering\n",
      "Plane 82 received for 3D filtering\n",
      "Plane 83 received for 3D filtering\n",
      "Plane 84 received for 3D filtering\n",
      "Plane 85 received for 3D filtering\n",
      "Plane 86 received for 3D filtering\n",
      "Plane 87 received for 3D filtering\n",
      "Plane 88 received for 3D filtering\n",
      "Plane 89 received for 3D filtering\n",
      "Plane 90 received for 3D filtering\n",
      "Plane 91 received for 3D filtering\n",
      "Plane 92 received for 3D filtering\n",
      "Plane 93 received for 3D filtering\n",
      "Plane 94 received for 3D filtering\n",
      "Plane 95 received for 3D filtering\n",
      "Plane 96 received for 3D filtering\n",
      "Plane 97 received for 3D filtering\n",
      "Plane 98 received for 3D filtering\n",
      "Plane 99 received for 3D filtering\n",
      "Plane 100 received for 3D filtering\n",
      "Plane 101 received for 3D filtering\n",
      "Plane 102 received for 3D filtering\n",
      "Plane 103 received for 3D filtering\n",
      "Plane 104 received for 3D filtering\n",
      "Plane 105 received for 3D filtering\n",
      "Plane 106 received for 3D filtering\n",
      "Plane 107 received for 3D filtering\n",
      "Plane 108 received for 3D filtering\n",
      "Plane 109 received for 3D filtering\n"
     ]
    },
    {
     "name": "stderr",
     "output_type": "stream",
     "text": [
      "Processing planes:  53%|█████▎    | 137/260 [00:00<00:00, 179.16it/s]"
     ]
    },
    {
     "name": "stdout",
     "output_type": "stream",
     "text": [
      "Plane 110 received for 3D filtering\n",
      "Plane 111 received for 3D filtering\n",
      "Plane 112 received for 3D filtering\n",
      "Plane 113 received for 3D filtering\n",
      "Plane 114 received for 3D filtering\n",
      "Plane 115 received for 3D filtering\n",
      "Plane 116 received for 3D filtering\n",
      "Plane 117 received for 3D filtering\n",
      "Plane 118 received for 3D filtering\n",
      "Plane 119 received for 3D filtering\n",
      "Plane 120 received for 3D filtering\n",
      "Plane 121 received for 3D filtering\n",
      "Plane 122 received for 3D filtering\n",
      "Plane 123 received for 3D filtering\n",
      "Plane 124 received for 3D filtering\n",
      "Plane 125 received for 3D filtering\n",
      "Plane 126 received for 3D filtering\n",
      "Plane 127 received for 3D filtering\n",
      "Plane 128 received for 3D filtering\n",
      "Plane 129 received for 3D filtering\n",
      "Plane 130 received for 3D filtering\n",
      "Plane 131 received for 3D filtering\n",
      "Plane 132 received for 3D filtering\n",
      "Plane 133 received for 3D filtering\n",
      "Plane 134 received for 3D filtering\n",
      "Plane 135 received for 3D filtering\n",
      "Plane 136 received for 3D filtering\n",
      "Plane 137 received for 3D filtering\n",
      "Plane 138 received for 3D filtering\n",
      "Plane 139 received for 3D filtering\n",
      "Plane 140 received for 3D filtering\n",
      "Plane 141 received for 3D filtering\n",
      "Plane 142 received for 3D filtering\n",
      "Plane 143 received for 3D filtering\n",
      "Plane 144 received for 3D filtering\n",
      "Plane 145 received for 3D filtering\n",
      "Plane 146 received for 3D filtering\n"
     ]
    },
    {
     "name": "stderr",
     "output_type": "stream",
     "text": [
      "Processing planes:  67%|██████▋   | 173/260 [00:00<00:00, 175.92it/s]"
     ]
    },
    {
     "name": "stdout",
     "output_type": "stream",
     "text": [
      "Plane 147 received for 3D filtering\n",
      "Plane 148 received for 3D filtering\n",
      "Plane 149 received for 3D filtering\n",
      "Plane 150 received for 3D filtering\n",
      "Plane 151 received for 3D filtering\n",
      "Plane 152 received for 3D filtering\n",
      "Plane 153 received for 3D filtering\n",
      "Plane 154 received for 3D filtering\n",
      "Plane 155 received for 3D filtering\n",
      "Plane 156 received for 3D filtering\n",
      "Plane 157 received for 3D filtering\n",
      "Plane 158 received for 3D filtering\n",
      "Plane 159 received for 3D filtering\n",
      "Plane 160 received for 3D filtering\n",
      "Plane 161 received for 3D filtering\n",
      "Plane 162 received for 3D filtering\n",
      "Plane 163 received for 3D filtering\n",
      "Plane 164 received for 3D filtering\n",
      "Plane 165 received for 3D filtering\n",
      "Plane 166 received for 3D filtering\n",
      "Plane 167 received for 3D filtering\n",
      "Plane 168 received for 3D filtering\n",
      "Plane 169 received for 3D filtering\n",
      "Plane 170 received for 3D filtering\n",
      "Plane 171 received for 3D filtering\n",
      "Plane 172 received for 3D filtering\n",
      "Plane 173 received for 3D filtering\n",
      "Plane 174 received for 3D filtering\n",
      "Plane 175 received for 3D filtering\n",
      "Plane 176 received for 3D filtering\n",
      "Plane 177 received for 3D filtering\n",
      "Plane 178 received for 3D filtering\n",
      "Plane 179 received for 3D filtering\n",
      "Plane 180 received for 3D filtering\n",
      "Plane 181 received for 3D filtering\n"
     ]
    },
    {
     "name": "stderr",
     "output_type": "stream",
     "text": [
      "Processing planes:  80%|████████  | 209/260 [00:01<00:00, 169.28it/s]"
     ]
    },
    {
     "name": "stdout",
     "output_type": "stream",
     "text": [
      "Plane 182 received for 3D filtering\n",
      "Plane 183 received for 3D filtering\n",
      "Plane 184 received for 3D filtering\n",
      "Plane 185 received for 3D filtering\n",
      "Plane 186 received for 3D filtering\n",
      "Plane 187 received for 3D filtering\n",
      "Plane 188 received for 3D filtering\n",
      "Plane 189 received for 3D filtering\n",
      "Plane 190 received for 3D filtering\n",
      "Plane 191 received for 3D filtering\n",
      "Plane 192 received for 3D filtering\n",
      "Plane 193 received for 3D filtering\n",
      "Plane 194 received for 3D filtering\n",
      "Plane 195 received for 3D filtering\n",
      "Plane 196 received for 3D filtering\n",
      "Plane 197 received for 3D filtering\n",
      "Plane 198 received for 3D filtering\n",
      "Plane 199 received for 3D filtering\n",
      "Plane 200 received for 3D filtering\n",
      "Plane 201 received for 3D filtering\n",
      "Plane 202 received for 3D filtering\n",
      "Plane 203 received for 3D filtering\n",
      "Plane 204 received for 3D filtering\n",
      "Plane 205 received for 3D filtering\n",
      "Plane 206 received for 3D filtering\n",
      "Plane 207 received for 3D filtering\n",
      "Plane 208 received for 3D filtering\n",
      "Plane 209 received for 3D filtering\n",
      "Plane 210 received for 3D filtering\n",
      "Plane 211 received for 3D filtering\n",
      "Plane 212 received for 3D filtering\n",
      "Plane 213 received for 3D filtering\n",
      "Plane 214 received for 3D filtering\n",
      "Plane 215 received for 3D filtering\n",
      "Plane 216 received for 3D filtering\n",
      "Plane 217 received for 3D filtering\n",
      "Plane 218 received for 3D filtering\n",
      "Plane 219 received for 3D filtering\n",
      "Plane 220 received for 3D filtering\n",
      "Plane 221 received for 3D filtering\n",
      "Plane 222 received for 3D filtering\n"
     ]
    },
    {
     "name": "stderr",
     "output_type": "stream",
     "text": [
      "Processing planes: 100%|██████████| 260/260 [00:01<00:00, 199.08it/s]\n"
     ]
    },
    {
     "name": "stdout",
     "output_type": "stream",
     "text": [
      "Plane 223 received for 3D filtering\n",
      "Plane 224 received for 3D filtering\n",
      "Plane 225 received for 3D filtering\n",
      "Plane 226 received for 3D filtering\n",
      "Plane 227 received for 3D filtering\n",
      "Plane 228 received for 3D filtering\n",
      "Plane 229 received for 3D filtering\n",
      "Plane 230 received for 3D filtering\n",
      "Plane 231 received for 3D filtering\n",
      "Plane 232 received for 3D filtering\n",
      "Plane 233 received for 3D filtering\n",
      "Plane 234 received for 3D filtering\n",
      "Plane 235 received for 3D filtering\n",
      "Plane 236 received for 3D filtering\n",
      "Plane 237 received for 3D filtering\n",
      "Plane 238 received for 3D filtering\n",
      "Plane 239 received for 3D filtering\n",
      "Plane 240 received for 3D filtering\n",
      "Plane 241 received for 3D filtering\n",
      "Plane 242 received for 3D filtering\n",
      "Plane 243 received for 3D filtering\n",
      "Plane 244 received for 3D filtering\n",
      "Plane 245 received for 3D filtering\n",
      "Plane 246 received for 3D filtering\n",
      "Plane 247 received for 3D filtering\n",
      "Plane 248 received for 3D filtering\n",
      "Plane 249 received for 3D filtering\n",
      "Plane 250 received for 3D filtering\n",
      "Plane 251 received for 3D filtering\n",
      "Plane 252 received for 3D filtering\n",
      "Plane 253 received for 3D filtering\n",
      "Plane 254 received for 3D filtering\n",
      "Plane 255 received for 3D filtering\n",
      "Plane 256 received for 3D filtering\n",
      "Plane 257 received for 3D filtering\n",
      "Plane 258 received for 3D filtering\n",
      "Plane 259 received for 3D filtering\n",
      "Detection complete - all planes done in : 0:00:01.805912\n",
      "\n",
      "\n",
      "Detected 1960 candidate cells for annocation block 4.\n",
      "Detected 1684 candidate cells for annocation block 1.\n",
      "Detected 365 candidate cells for annocation block 3.\n",
      "Detected 1560 candidate cells for annocation block 2.\n"
     ]
    }
   ],
   "source": [
    "# Run cellfinder detection for each block\n",
    "# ignores divide by zero warning due to padded z-plane\n",
    "warnings.simplefilter(action = 'ignore', category = RuntimeWarning)\n",
    "\n",
    "start_detect = time.time()\n",
    "\n",
    "for key in blocks.keys():\n",
    "    \n",
    "    signal_array = tifffile.imread(blocks[key]['signal'])\n",
    "    cell_candidates = detect.main(signal_array, start_plane, end_plane, voxel_sizes, soma_diameter, max_cluster_size,\n",
    "                                  ball_xy_size, ball_z_size, ball_overlap_fraction, soma_spread_factor, n_free_cpus,\n",
    "                                  log_sigma_size, n_sds_above_mean_thresh)\n",
    "    blocks[key]['candidates'] = cell_candidates\n",
    "\n",
    "print('\\n')\n",
    "for key in blocks.keys():\n",
    "    candidates = blocks[key]['candidates']\n",
    "    print('Detected {0} candidate cells for annocation block {1}.'.format(len(candidates), str(key)))\n",
    "\n",
    "detection_time = time.time() - start_detect"
   ]
  },
  {
   "cell_type": "code",
   "execution_count": 6,
   "id": "0027a979-7833-4c34-8a3b-d8a998bb5238",
   "metadata": {},
   "outputs": [
    {
     "name": "stdout",
     "output_type": "stream",
     "text": [
      "89/89 [==============================] - 27s 230ms/step\n",
      "Cell classification found 1960 cells and 0 noncells in annotation block 4.\n",
      "159/159 [==============================] - 23s 130ms/step\n",
      "Cell classification found 1684 cells and 0 noncells in annotation block 1.\n",
      "49/49 [==============================] - 7s 86ms/step\n",
      "Cell classification found 365 cells and 0 noncells in annotation block 3.\n",
      "157/157 [==============================] - 22s 128ms/step\n",
      "Cell classification found 1560 cells and 0 noncells in annotation block 2.\n",
      "\n",
      "Total runtime for cellfinder: 100.02284836769104 seconds.\n"
     ]
    }
   ],
   "source": [
    "#Run cell classification\n",
    "from imlib.IO.cells import save_cells\n",
    "start_classify = time.time()\n",
    "\n",
    "#only run classification if there are cells to classify\n",
    "for key in blocks.keys():\n",
    "    signal_array = tifffile.imread(blocks[key]['signal'])\n",
    "    background_array = tifffile.imread(blocks[key]['background'])\n",
    "    cell_candidates = blocks[key]['candidates']\n",
    "    \n",
    "    cells, noncells = [], []\n",
    "    \n",
    "    if len(cell_candidates):\n",
    "        classified_cells = classify.main(cell_candidates, signal_array, background_array, n_free_cpus, voxel_sizes,\n",
    "                                         voxel_sizes, batch_size, cube_height, cube_width, cube_depth,\n",
    "                                         trained_model, model_weights, network_depth)\n",
    "        # save cells\n",
    "        now = datetime.now()\n",
    "        date_str = now.strftime(\"%Y_%m_%d_%H:%M:%S\")\n",
    "        save_cells(classified_cells, os.path.join(output_path, date_str + '_block_' + str(key) + '_classified_cells.xml'))\n",
    "\n",
    "        # get counts of cells and noncells\n",
    "        for c in classified_cells:\n",
    "        \n",
    "            if c.CELL == 2:\n",
    "                cells.append([c.x, c.y, c.z])\n",
    "            else:\n",
    "                noncells.append([c.x, c.y, c.z])\n",
    "        \n",
    "        blocks[key]['pred_detect'] = cells\n",
    "        blocks[key]['pred_reject'] = noncells\n",
    "        \n",
    "    print('Cell classification found {0} cells and {1} noncells in annotation block {2}.'.format(len(cells), len(noncells), key))\n",
    "\n",
    "classify_time = time.time() - start_classify\n",
    "print('\\nTotal runtime for cellfinder: {0} seconds.'.format(detection_time + classify_time))\n",
    "        "
   ]
  },
  {
   "cell_type": "code",
   "execution_count": 7,
   "id": "ce782557-ecde-42ff-a553-37c43ce742b1",
   "metadata": {},
   "outputs": [
    {
     "name": "stdout",
     "output_type": "stream",
     "text": [
      "          x      y      z  block  annotated  predicted\n",
      "10    145.0  132.0   51.0    4.0        1.0        1.0\n",
      "11    199.0  145.0   51.0    4.0        1.0        1.0\n",
      "12    160.0  150.0   51.0    4.0        1.0        1.0\n",
      "13    127.0  151.0   51.0    4.0        1.0        1.0\n",
      "14    184.0  154.0   51.0    4.0        1.0        1.0\n",
      "...     ...    ...    ...    ...        ...        ...\n",
      "1671  139.0  112.0  189.0    2.0        3.0        1.0\n",
      "1672   82.0  177.0  188.0    2.0        3.0        1.0\n",
      "1673   55.0  175.0  193.0    2.0        3.0        1.0\n",
      "1674   51.0  120.0  195.0    2.0        3.0        1.0\n",
      "1675  147.0   60.0  204.0    2.0        3.0        1.0\n",
      "\n",
      "[6025 rows x 6 columns]\n"
     ]
    }
   ],
   "source": [
    "# Identify prediction and annotation overlap and build dataframe for validation metrics\n",
    "# Key: 1: signal that is detected and considered to be a cell\n",
    "#      2: signal that is detected but found to be noise and rejected\n",
    "#      3: singal that is annotated but not predicted to be signal\n",
    "\n",
    "import numpy as np\n",
    "import pandas as pd\n",
    "from scipy.spatial import KDTree\n",
    "\n",
    "# max distance a prediction can be off and still count as cell. very conservative at 1 px \n",
    "max_dist = 1\n",
    "metric_df = pd.DataFrame(columns = ['x', 'y', 'z', 'block', 'annotated', 'predicted'])\n",
    "\n",
    "for key in blocks.keys():\n",
    "    \n",
    "    # get annotated data (not alwats a reject file)\n",
    "    annot_detect = np.asarray(blocks[key]['detect'])\n",
    "            \n",
    "    try:\n",
    "        annot_reject = np.asarray(blocks[key]['reject'])\n",
    "        type_reject = np.ones((len(annot_reject), 1)) * 2\n",
    "        \n",
    "        annot_points = np.concatenate((annot_detect, annot_reject), axis = 0)\n",
    "        annot_types = np.concatenate((np.ones((len(annot_detect), 1)),\n",
    "                                      np.ones((len(annot_reject), 1)) * 2), axis = 0)\n",
    "    except:\n",
    "        annot_points = annot_detect.copy()\n",
    "        annot_types = np.ones((len(annot_detect), 1))\n",
    "\n",
    "    # get predicted data\n",
    "    pred_detect = np.asarray(blocks[key]['pred_detect'])\n",
    "    pred_reject = np.asarray(blocks[key]['pred_reject'])\n",
    "    \n",
    "    if len(pred_reject) > 0:\n",
    "        pred_points = np.concatenate((pred_detect, pred_reject), axis = 0)\n",
    "        pred_types = np.concatenate((np.ones((len(pred_detect), 1)),\n",
    "                                     np.ones((len(pred_reject), 1)) * 2), axis = 0)\n",
    "    else:\n",
    "        pred_points = pred_detect.copy()\n",
    "        pred_types = np.ones((len(pred_detect), 1))\n",
    "        \n",
    "    # create annotation and prediction tree for comparison\n",
    "    annot_tree = KDTree(annot_points)\n",
    "    pred_tree = KDTree(pred_points)\n",
    "    \n",
    "    # returns: for each element in annot_tree[i], indexes[i] is a list of indecies within distance r from pred_tree\n",
    "    indexes = annot_tree.query_ball_tree(pred_tree, r = 1)\n",
    "    pred_id = np.zeros((len(annot_types), 1))\n",
    "    pred_extra = np.zeros((len(pred_types), 1))\n",
    "    \n",
    "    # get the index and type for all annotated cells and id predicted cells that were not annotated\n",
    "    for c, idx in enumerate(indexes):\n",
    "        if len(idx) > 0:\n",
    "            pred_id[c] = pred_types[idx[0]]\n",
    "            pred_extra[idx[0]] = 1\n",
    "    \n",
    "    pred_id[pred_id == 0] = 3\n",
    "    data_array = np.concatenate((annot_points,\n",
    "                                 np.ones((len(annot_points), 1)) * int(key),\n",
    "                                 annot_types,\n",
    "                                 pred_id), axis = 1)\n",
    "    \n",
    "    # get location and type of predicted cells that where not annotated\n",
    "    pred_extra_loc, _ = np.where(pred_extra == 0)\n",
    "    if len(pred_extra_loc) > 0:\n",
    "        curr_points = pred_points[pred_extra_loc[:], :]\n",
    "        curr_types = pred_types[pred_extra_loc[:], :]\n",
    "        pred_array = np.concatenate((curr_points,\n",
    "                                    np.ones((len(curr_points), 1)) * int(key),\n",
    "                                    np.ones((len(curr_points), 1)) * 3,\n",
    "                                    curr_types), axis = 1)\n",
    "        \n",
    "        # add to annot array\n",
    "        data_array = np.vstack((data_array, pred_array))\n",
    "\n",
    "    # create dataframes                                         \n",
    "    curr_df = pd.DataFrame(data_array, columns = ['x', 'y', 'z', 'block', 'annotated', 'predicted'])\n",
    "    metric_df = pd.concat((metric_df, curr_df))\n",
    "\n",
    "print(metric_df[10:])                                      "
   ]
  },
  {
   "cell_type": "code",
   "execution_count": 8,
   "id": "157a2bbe-8498-4441-8524-c856435c16b7",
   "metadata": {},
   "outputs": [
    {
     "data": {
      "image/png": "[encoded data removed]",
      "text/plain": [
       "<Figure size 720x216 with 6 Axes>"
      ]
     },
     "metadata": {
      "needs_background": "light"
     },
     "output_type": "display_data"
    },
    {
     "data": {
      "image/png": "[encoded data removed]",
      "text/plain": [
       "<Figure size 720x216 with 6 Axes>"
      ]
     },
     "metadata": {
      "needs_background": "light"
     },
     "output_type": "display_data"
    },
    {
     "data": {
      "image/png": "[encoded data removed]",
      "text/plain": [
       "<Figure size 720x216 with 6 Axes>"
      ]
     },
     "metadata": {
      "needs_background": "light"
     },
     "output_type": "display_data"
    },
    {
     "data": {
      "image/png": "[encoded data removed]",
      "text/plain": [
       "<Figure size 720x216 with 6 Axes>"
      ]
     },
     "metadata": {
      "needs_background": "light"
     },
     "output_type": "display_data"
    },
    {
     "data": {
      "image/png": "[encoded data removed]",
      "text/plain": [
       "<Figure size 720x216 with 6 Axes>"
      ]
     },
     "metadata": {
      "needs_background": "light"
     },
     "output_type": "display_data"
    }
   ],
   "source": [
    "# Classification Metrics\n",
    "import seaborn as sns\n",
    "import matplotlib.pyplot as plt\n",
    "%matplotlib inline\n",
    "\n",
    "from pycm import ConfusionMatrix\n",
    "\n",
    "# ignores numpy.where() warning\n",
    "warnings.simplefilter(action = 'ignore', category = FutureWarning)\n",
    "\n",
    "# Plot cumulative, Row normalized, and Performance for each block as well as total\n",
    "for i in range(int(metric_df['block'].max()) + 1):\n",
    "    fig, ax = plt.subplots(1, 3, figsize = (10, 3))\n",
    "    \n",
    "    if i < metric_df['block'].max():\n",
    "        block_df = metric_df.loc[metric_df['block'] == i + 1, :]\n",
    "        cm = ConfusionMatrix(block_df['annotated'].values, block_df['predicted'].values, classes = [1.0, 2.0, 3.0])\n",
    "        fig.suptitle('Confusion matricies: Block ' + str(i + 1))\n",
    "    else:\n",
    "        cm = ConfusionMatrix(metric_df['annotated'].values, metric_df['predicted'].values, classes = [1.0, 2.0, 3.0])\n",
    "        fig.suptitle('Confusion matricies: Total')\n",
    "    \n",
    "    for j in range(3):\n",
    "        if j == 0:\n",
    "            cm_df = pd.DataFrame(cm.to_array(normalized = False), columns = ['cell', 'noncell', 'not_pred'], index = ['cell', 'noncell', 'not_annot'])\n",
    "            ax[j].set_title('Cumulative')\n",
    "        elif j == 1:\n",
    "            cm_df = pd.DataFrame(cm.to_array(normalized = True), columns = ['cell', 'noncell', 'not_pred'], index = ['cell', 'noncell', 'not_annot'])\n",
    "            ax[j].set_title('Normalized (by row)')\n",
    "        else:\n",
    "            perf_array = np.asarray([[cm.class_stat['PPV'][k], cm.class_stat['TPR'][k], cm.class_stat['F1'][k]] for k in [1.0, 2.0]])\n",
    "            perf_array = np.where(perf_array == 'None', 0, perf_array)\n",
    "            cm_df = pd.DataFrame(perf_array.astype(float), columns = ['Precision', 'Recall', 'F1 Score'], index = ['cell', 'noncell'])\n",
    "            ax[j].set_title('Performance')\n",
    "            \n",
    "        sns.heatmap(cm_df, annot = True, cmap = 'coolwarm', fmt = '.4g', annot_kws = {'fontweight': 'heavy'}, ax = ax[j])\n",
    "        \n",
    "        if j == 0:\n",
    "            ax[j].set_ylabel('Annotated label')\n",
    "        \n",
    "        if j != 2:\n",
    "            ax[j].set_xlabel('Predicted label')\n",
    "        else:\n",
    "            ax[j].set_xlabel('Performance metric')\n",
    "            \n",
    "    fig.tight_layout(rect=[0, 0, 1, 0.95])\n",
    "    \n"
   ]
  },
  {
   "cell_type": "code",
   "execution_count": null,
   "id": "e26751e0-5d80-48f2-8925-eefe2a85c80e",
   "metadata": {},
   "outputs": [],
   "source": []
  }
 ],
 "metadata": {
  "kernelspec": {
   "display_name": "Python 3",
   "language": "python",
   "name": "python3"
  },
  "language_info": {
   "codemirror_mode": {
    "name": "ipython",
    "version": 3
   },
   "file_extension": ".py",
   "mimetype": "text/x-python",
   "name": "python",
   "nbconvert_exporter": "python",
   "pygments_lexer": "ipython3",
   "version": "3.8.13"
  }
 },
 "nbformat": 4,
 "nbformat_minor": 5
}
