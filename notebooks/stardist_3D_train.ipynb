{
 "cells": [
  {
   "cell_type": "markdown",
   "id": "2cbd88f2-2827-4c48-b1da-76ac9c07dbf6",
   "metadata": {},
   "source": [
    "## Load and Preprocess Data"
   ]
  },
  {
   "cell_type": "code",
   "execution_count": null,
   "id": "04f10883-173c-408d-943f-5626045f0b42",
   "metadata": {},
   "outputs": [],
   "source": [
    "# Import libraries\n",
    "from __future__ import print_function, unicode_literals, absolute_import, division\n",
    "import os\n",
    "import sys\n",
    "import numpy as np\n",
    "import matplotlib\n",
    "matplotlib.rcParams[\"image.interpolation\"] = None\n",
    "import matplotlib.pyplot as plt\n",
    "%matplotlib inline\n",
    "%config InlineBackend.figure_format = 'retina'\n",
    "\n",
    "from glob import glob\n",
    "from tqdm import tqdm\n",
    "from tifffile import imread\n",
    "from csbdeep.utils import Path, normalize\n",
    "\n",
    "from stardist import fill_label_holes, random_label_cmap, calculate_extents, gputools_available\n",
    "from stardist import Rays_GoldenSpiral\n",
    "from stardist.matching import matching, matching_dataset\n",
    "from stardist.models import Config3D, StarDist3D, StarDistData3D\n",
    "\n",
    "np.random.seed(42)\n",
    "lbl_cmap = random_label_cmap()"
   ]
  },
  {
   "cell_type": "code",
   "execution_count": null,
   "id": "eedcf7bb-a7bb-415a-8448-609e9f2c7950",
   "metadata": {},
   "outputs": [],
   "source": [
    "# Set paths to the image files and masks\n",
    "root = '/home/elyse/Documents/GitHub/LS_evaluation_tool/test_data/stardist_training'\n",
    "img_dir = 'train/images'\n",
    "mask_dir = 'train/masks'\n",
    "\n",
    "X = sorted(glob(os.path.join(root, img_dir, '*.tif')))\n",
    "Y = sorted(glob(os.path.join(root, mask_dir, '*.tif')))\n",
    "assert all(Path(x).name==Path(y).name for x,y in zip(X,Y))"
   ]
  },
  {
   "cell_type": "code",
   "execution_count": null,
   "id": "b2a13ca5-54c4-4644-90e1-ef5b5917ab02",
   "metadata": {},
   "outputs": [],
   "source": [
    "# Load and normalize datasets (normalization can dramatically effect segmentation)\n",
    "X = list(map(imread,X))\n",
    "Y = list(map(imread,Y))\n",
    "\n",
    "axis_norm = (0,1,2)   # normalize channels independently\n",
    "X = [normalize(x,1,99.8,axis=axis_norm) for x in tqdm(X)]\n",
    "Y = [fill_label_holes(y) for y in tqdm(Y)]"
   ]
  },
  {
   "cell_type": "code",
   "execution_count": null,
   "id": "c60a52f1-2251-4d67-8261-08071cf4d9d5",
   "metadata": {},
   "outputs": [],
   "source": [
    "rng = np.random.RandomState(42)\n",
    "ind = rng.permutation(len(X))\n",
    "n_val = max(1, int(round(0.15 * len(ind))))\n",
    "ind_train, ind_val = ind[:-n_val], ind[-n_val:]\n",
    "X_val, Y_val = [X[i] for i in ind_val]  , [Y[i] for i in ind_val]\n",
    "X_trn, Y_trn = [X[i] for i in ind_train], [Y[i] for i in ind_train] \n",
    "print('number of images: %3d' % len(X))\n",
    "print('- training:       %3d' % len(X_trn))\n",
    "print('- validation:     %3d' % len(X_val))"
   ]
  },
  {
   "cell_type": "code",
   "execution_count": null,
   "id": "2be36af9-6004-4a8f-9f1f-975de0a36c52",
   "metadata": {},
   "outputs": [],
   "source": [
    "# Function to showe an XY slice of raw and mask image\n",
    "def plot_img_label(img, lbl, img_title=\"image (XY slice)\", lbl_title=\"label (XY slice)\", z=None, **kwargs):\n",
    "    if z is None:\n",
    "        z = img.shape[0] // 2    \n",
    "    fig, (ai,al) = plt.subplots(1,2, figsize=(12,5), gridspec_kw=dict(width_ratios=(1.25,1)))\n",
    "    im = ai.imshow(img[z], cmap='gray', clim=(0,1))\n",
    "    ai.set_title(img_title)    \n",
    "    fig.colorbar(im, ax=ai)\n",
    "    al.imshow(lbl[z], cmap=lbl_cmap)\n",
    "    al.set_title(lbl_title)\n",
    "    plt.tight_layout()\n",
    "\n",
    "i = 0\n",
    "img, lbl = X[i], Y[i]\n",
    "img = img if img.ndim==3 else img[...,:3]\n",
    "plot_img_label(img,lbl)\n"
   ]
  },
  {
   "cell_type": "markdown",
   "id": "98868b86-b7d2-4108-bfe4-7cc351864a39",
   "metadata": {
    "tags": []
   },
   "source": [
    "## Configure and Train Model"
   ]
  },
  {
   "cell_type": "code",
   "execution_count": null,
   "id": "f63c686d-2d90-4500-b480-f582f5e1125e",
   "metadata": {},
   "outputs": [],
   "source": [
    "# Calculate anisotropy. Should be (2.0, 1.8, 1.8) for SmartSpim data\n",
    "extents = calculate_extents(Y)\n",
    "anisotropy = tuple(np.max(extents) / extents)\n",
    "print('empirical anisotropy of labeled objects = %s' % str(anisotropy))"
   ]
  },
  {
   "cell_type": "code",
   "execution_count": null,
   "id": "8ddecd2b-fefc-4a15-94ff-646908f68aa0",
   "metadata": {},
   "outputs": [],
   "source": [
    "# function to get total memory for allocation\n",
    "import subprocess as sp\n",
    "\n",
    "def get_gpu_memory():\n",
    "    command = \"nvidia-smi --query-gpu=memory.free --format=csv\"\n",
    "    memory_free_info = sp.check_output(command.split()).decode('ascii').split('\\n')[:-1][1:]\n",
    "    memory_free_values = [int(x.split()[0]) for i, x in enumerate(memory_free_info)]\n",
    "    return memory_free_values\n",
    "\n",
    "\n",
    "# Parameterize model\n",
    "n_rays = 96\n",
    "n_channel = 1\n",
    "use_gpu = True\n",
    "\n",
    "# Predict on subsampled grid for increased efficiency and larger field of view\n",
    "grid = tuple(1 if a > 1.5 else 2 for a in anisotropy)\n",
    "\n",
    "# Use rays on a Fibonacci lattice adjusted for measured anisotropy of the training data\n",
    "rays = Rays_GoldenSpiral(n_rays, anisotropy=anisotropy)\n",
    "\n",
    "conf = Config3D (\n",
    "    rays             = rays,\n",
    "    grid             = grid,\n",
    "    anisotropy       = anisotropy,\n",
    "    use_gpu          = use_gpu,\n",
    "    n_channel_in     = n_channel,\n",
    "    # adjust for your data below (make patch size as large as possible)\n",
    "    train_patch_size = (16,32,32),\n",
    "    train_batch_size = 2,\n",
    ")\n",
    "print(conf)\n",
    "vars(conf)\n",
    "\n",
    "# parameterize gpu usage\n",
    "if use_gpu:\n",
    "    from csbdeep.utils.tf import limit_gpu_memory\n",
    "    # adjust as necessary: limit GPU memory to be used by TensorFlow to leave some to OpenCL-based computations\n",
    "    gpu_mem = get_gpu_memory()\n",
    "    limit_gpu_memory(0.8, total_memory = gpu_mem[0])\n",
    "    # alternatively, try this:\n",
    "    # limit_gpu_memory(None, allow_growth=True)\n",
    "\n"
   ]
  },
  {
   "cell_type": "code",
   "execution_count": null,
   "id": "c18e8eda-9189-405b-b515-4619dd626761",
   "metadata": {},
   "outputs": [],
   "source": [
    "# create model and test parameters\n",
    "model_dir = os.path.join(root, 'models')\n",
    "model = StarDist3D(conf, name = 'stardist', basedir = model_dir)\n",
    "\n",
    "median_size = calculate_extents(Y, np.median)\n",
    "fov = np.array(model._axes_tile_overlap('ZYX'))\n",
    "print(f\"median object size:      {median_size}\")\n",
    "print(f\"network field of view :  {fov}\")\n",
    "if any(median_size > fov):\n",
    "    print(\"WARNING: median object size larger than field of view of the neural network.\")"
   ]
  },
  {
   "cell_type": "code",
   "execution_count": null,
   "id": "87960164-7d43-43f3-9b36-9bd4e7787695",
   "metadata": {
    "scrolled": true,
    "tags": []
   },
   "outputs": [],
   "source": [
    "model.train(X_trn, Y_trn, validation_data = (X_val,Y_val), augmenter = None)"
   ]
  },
  {
   "cell_type": "markdown",
   "id": "bc6cfbd6-4324-48f2-9e4b-7c3659d8f714",
   "metadata": {},
   "source": [
    "## Optimize Thresholds"
   ]
  },
  {
   "cell_type": "code",
   "execution_count": null,
   "id": "57184481-b790-4c2c-ad40-a36cea68f48f",
   "metadata": {},
   "outputs": [],
   "source": [
    "model.optimize_thresholds(X_val, Y_val)"
   ]
  },
  {
   "cell_type": "markdown",
   "id": "d2766092-59c8-4166-81ff-fd9ed10a66be",
   "metadata": {},
   "source": [
    "## Segmentation Evaluation"
   ]
  },
  {
   "cell_type": "code",
   "execution_count": null,
   "id": "915b5337-4ddf-4ab7-900a-b9871a799ddc",
   "metadata": {},
   "outputs": [],
   "source": [
    "Y_val_pred = [model.predict_instances(x, n_tiles=model._guess_n_tiles(x), show_tile_progress=False)[0]\n",
    "              for x in tqdm(X_val)]"
   ]
  },
  {
   "cell_type": "code",
   "execution_count": null,
   "id": "a039a3bc-7341-45b2-8880-85125cc57e81",
   "metadata": {},
   "outputs": [],
   "source": [
    "# plot istance of image along with mask and prediction\n",
    "plot_img_label(X_val[0],Y_val[0], lbl_title=\"label GT (XY slice)\")\n",
    "plot_img_label(X_val[0],Y_val_pred[0], lbl_title=\"label Pred (XY slice)\")"
   ]
  },
  {
   "cell_type": "code",
   "execution_count": null,
   "id": "dec36218-60dd-468b-a716-0120b92b379b",
   "metadata": {},
   "outputs": [],
   "source": [
    "# get metrics across range of IOU values\n",
    "taus = [0.1, 0.2, 0.3, 0.4, 0.5, 0.6, 0.7, 0.8, 0.9]\n",
    "stats = [matching_dataset(Y_val, Y_val_pred, thresh=t, show_progress=False) for t in tqdm(taus)]\n"
   ]
  },
  {
   "cell_type": "code",
   "execution_count": null,
   "id": "50f256f5-19ba-485c-b385-797c93043454",
   "metadata": {},
   "outputs": [],
   "source": [
    "# plot prediction metrics across IOU values\n",
    "fig, (ax1,ax2) = plt.subplots(1,2, figsize=(15,5))\n",
    "\n",
    "for m in ('precision', 'recall', 'accuracy', 'f1', 'mean_true_score', 'mean_matched_score', 'panoptic_quality'):\n",
    "    ax1.plot(taus, [s._asdict()[m] for s in stats], '.-', lw=2, label=m)\n",
    "ax1.set_xlabel(r'IoU threshold $\\tau$')\n",
    "ax1.set_ylabel('Metric value')\n",
    "ax1.grid()\n",
    "ax1.legend()\n",
    "\n",
    "for m in ('fp', 'tp', 'fn'):\n",
    "    ax2.plot(taus, [s._asdict()[m] for s in stats], '.-', lw=2, label=m)\n",
    "ax2.set_xlabel(r'IoU threshold $\\tau$')\n",
    "ax2.set_ylabel('Number #')\n",
    "ax2.grid()\n",
    "ax2.legend();"
   ]
  }
 ],
 "metadata": {
  "kernelspec": {
   "display_name": "Python 3",
   "language": "python",
   "name": "python3"
  },
  "language_info": {
   "codemirror_mode": {
    "name": "ipython",
    "version": 3
   },
   "file_extension": ".py",
   "mimetype": "text/x-python",
   "name": "python",
   "nbconvert_exporter": "python",
   "pygments_lexer": "ipython3",
   "version": "3.8.13"
  }
 },
 "nbformat": 4,
 "nbformat_minor": 5
}
